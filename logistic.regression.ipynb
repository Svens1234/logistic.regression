{
 "cells": [
  {
   "cell_type": "code",
   "execution_count": 2,
   "id": "9dd784be",
   "metadata": {},
   "outputs": [],
   "source": [
    "from sklearn.datasets import make_classification\n",
    "from matplotlib import pyplot as plt\n",
    "from sklearn.linear_model import LogisticRegression\n",
    "import seaborn as sns\n",
    "import pandas as pd\n",
    "import numpy as np\n",
    "from sklearn.model_selection import train_test_split\n",
    "from sklearn.metrics import confusion_matrix"
   ]
  },
  {
   "cell_type": "code",
   "execution_count": 4,
   "id": "d6ce54c1",
   "metadata": {},
   "outputs": [],
   "source": [
    "x,y = make_classification(n_samples=100,\n",
    "                          n_features=1,\n",
    "                          n_classes=2,\n",
    "                          n_clusters_per_class=1,\n",
    "                          flip_y=0.03,\n",
    "                          n_informative=1,\n",
    "                          n_redundant=0,\n",
    "                          n_repeated=0)"
   ]
  },
  {
   "cell_type": "code",
   "execution_count": 5,
   "id": "cb299182",
   "metadata": {},
   "outputs": [
    {
     "name": "stdout",
     "output_type": "stream",
     "text": [
      "[[ 1.01040148]\n",
      " [ 0.16714797]\n",
      " [ 1.07543548]\n",
      " [ 0.63855957]\n",
      " [ 1.08243773]\n",
      " [-2.13147836]\n",
      " [ 1.2203636 ]\n",
      " [ 1.01726556]\n",
      " [ 1.02119967]\n",
      " [ 0.83700942]\n",
      " [ 0.99076438]\n",
      " [ 1.38274221]\n",
      " [-1.72395108]\n",
      " [ 1.21150505]\n",
      " [-1.59481042]\n",
      " [ 1.11066283]\n",
      " [-0.56830232]\n",
      " [-0.90451656]\n",
      " [ 1.0037251 ]\n",
      " [-1.72178307]\n",
      " [-2.88628613]\n",
      " [ 0.61162958]\n",
      " [-1.57246881]\n",
      " [ 0.86117926]\n",
      " [-0.47483397]\n",
      " [ 1.38875607]\n",
      " [-2.43278871]\n",
      " [-0.36444292]\n",
      " [-0.84065035]\n",
      " [ 0.82141899]\n",
      " [ 0.83865041]\n",
      " [-1.18465502]\n",
      " [-0.43140459]\n",
      " [ 1.18544486]\n",
      " [ 0.88637338]\n",
      " [-1.3590645 ]\n",
      " [ 0.77994041]\n",
      " [-0.33812024]\n",
      " [-0.50224708]\n",
      " [ 0.5705583 ]\n",
      " [-1.15529851]\n",
      " [ 0.64087877]\n",
      " [-0.608203  ]\n",
      " [-3.20434846]\n",
      " [ 0.99469881]\n",
      " [-2.97833356]\n",
      " [-2.11172065]\n",
      " [ 1.12470345]\n",
      " [-1.65792681]\n",
      " [ 1.04292292]\n",
      " [-0.26065555]\n",
      " [-0.23762075]\n",
      " [-1.82081835]\n",
      " [ 0.91886887]\n",
      " [-0.71256494]\n",
      " [-0.76445346]\n",
      " [-0.99528892]\n",
      " [ 1.09628701]\n",
      " [ 0.90393746]\n",
      " [ 1.06359135]\n",
      " [ 1.09467302]\n",
      " [ 0.90142276]\n",
      " [-1.04403374]\n",
      " [-0.93049676]\n",
      " [ 0.82592145]\n",
      " [-1.62312684]\n",
      " [ 0.78582039]\n",
      " [ 0.25354171]\n",
      " [-0.91930635]\n",
      " [-1.83249732]\n",
      " [-1.6395184 ]\n",
      " [-1.08973313]\n",
      " [-2.14711662]\n",
      " [ 1.343036  ]\n",
      " [ 0.92428778]\n",
      " [-1.72597635]\n",
      " [ 0.95110261]\n",
      " [-0.52380692]\n",
      " [ 1.37044527]\n",
      " [ 1.09468478]\n",
      " [ 1.13023103]\n",
      " [-1.28127602]\n",
      " [ 0.91753933]\n",
      " [ 1.2294894 ]\n",
      " [-0.35698695]\n",
      " [ 0.91748025]\n",
      " [ 1.032495  ]\n",
      " [ 0.80701672]\n",
      " [-1.68424116]\n",
      " [ 0.97257313]\n",
      " [-1.38766141]\n",
      " [-1.83751814]\n",
      " [-1.03415516]\n",
      " [ 0.62036352]\n",
      " [ 0.77882756]\n",
      " [ 0.0177464 ]\n",
      " [ 1.03737017]\n",
      " [ 0.10002071]\n",
      " [ 0.91748102]\n",
      " [ 1.1087231 ]]\n"
     ]
    }
   ],
   "source": [
    "print(x)"
   ]
  },
  {
   "cell_type": "code",
   "execution_count": 6,
   "id": "ef6c929d",
   "metadata": {},
   "outputs": [
    {
     "name": "stdout",
     "output_type": "stream",
     "text": [
      "[1 1 1 1 1 0 1 1 1 1 1 1 0 1 0 1 0 0 1 0 0 1 0 1 0 1 0 0 0 1 1 0 0 1 1 0 1\n",
      " 0 0 0 0 1 0 0 0 0 0 1 0 1 0 0 1 1 0 0 0 1 1 1 1 1 0 0 1 0 1 0 0 0 0 0 0 1\n",
      " 1 0 1 0 1 1 1 0 1 1 0 1 1 1 0 0 0 0 0 1 1 0 1 0 1 1]\n"
     ]
    }
   ],
   "source": [
    "print(y)"
   ]
  },
  {
   "cell_type": "code",
   "execution_count": 11,
   "id": "ffbebbc5",
   "metadata": {},
   "outputs": [
    {
     "data": {
      "image/png": "[encoded data removed]",
      "text/plain": [
       "<Figure size 432x288 with 1 Axes>"
      ]
     },
     "metadata": {
      "needs_background": "light"
     },
     "output_type": "display_data"
    }
   ],
   "source": [
    "plt.scatter(x,y,cmap='Reds')\n",
    "plt.show()"
   ]
  },
  {
   "cell_type": "code",
   "execution_count": 12,
   "id": "a464b8dc",
   "metadata": {},
   "outputs": [],
   "source": [
    "x_train, x_test, y_train, y_test = train_test_split(x,y, random_state=1)"
   ]
  },
  {
   "cell_type": "code",
   "execution_count": 13,
   "id": "bc59cc31",
   "metadata": {},
   "outputs": [],
   "source": [
    "lr = LogisticRegression()"
   ]
  },
  {
   "cell_type": "code",
   "execution_count": 14,
   "id": "ce87a685",
   "metadata": {},
   "outputs": [
    {
     "data": {
      "text/plain": [
       "LogisticRegression()"
      ]
     },
     "execution_count": 14,
     "metadata": {},
     "output_type": "execute_result"
    }
   ],
   "source": [
    "lr.fit(x_train,y_train)"
   ]
  },
  {
   "cell_type": "code",
   "execution_count": 16,
   "id": "a8f7aea5",
   "metadata": {},
   "outputs": [
    {
     "name": "stdout",
     "output_type": "stream",
     "text": [
      "[[2.9104882]]\n",
      "[-0.33626947]\n"
     ]
    }
   ],
   "source": [
    "print(lr.coef_)\n",
    "print(lr.intercept_)"
   ]
  },
  {
   "cell_type": "code",
   "execution_count": 19,
   "id": "80085658",
   "metadata": {},
   "outputs": [],
   "source": [
    "y_pred = lr.predict(x_test)"
   ]
  },
  {
   "cell_type": "code",
   "execution_count": 20,
   "id": "a53105e8",
   "metadata": {},
   "outputs": [
    {
     "data": {
      "text/plain": [
       "array([[13,  2],\n",
       "       [ 1,  9]], dtype=int64)"
      ]
     },
     "execution_count": 20,
     "metadata": {},
     "output_type": "execute_result"
    }
   ],
   "source": [
    "confusion_matrix(y_test, y_pred)"
   ]
  },
  {
   "cell_type": "code",
   "execution_count": null,
   "id": "fd04d958",
   "metadata": {},
   "outputs": [],
   "source": []
  }
 ],
 "metadata": {
  "kernelspec": {
   "display_name": "Python 3 (ipykernel)",
   "language": "python",
   "name": "python3"
  },
  "language_info": {
   "codemirror_mode": {
    "name": "ipython",
    "version": 3
   },
   "file_extension": ".py",
   "mimetype": "text/x-python",
   "name": "python",
   "nbconvert_exporter": "python",
   "pygments_lexer": "ipython3",
   "version": "3.8.7"
  }
 },
 "nbformat": 4,
 "nbformat_minor": 5
}
